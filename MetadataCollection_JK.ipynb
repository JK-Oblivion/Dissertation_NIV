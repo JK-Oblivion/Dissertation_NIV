{
  "nbformat": 4,
  "nbformat_minor": 0,
  "metadata": {
    "colab": {
      "provenance": [],
      "authorship_tag": "ABX9TyP941qsx9yJTpNBw76qHptj",
      "include_colab_link": true
    },
    "kernelspec": {
      "name": "python3",
      "display_name": "Python 3"
    },
    "language_info": {
      "name": "python"
    }
  },
  "cells": [
    {
      "cell_type": "markdown",
      "metadata": {
        "id": "view-in-github",
        "colab_type": "text"
      },
      "source": [
        "<a href=\"https://colab.research.google.com/github/JK-Oblivion/Dissertation_NIV/blob/main/MetadataCollection_JK.ipynb\" target=\"_parent\"><img src=\"https://colab.research.google.com/assets/colab-badge.svg\" alt=\"Open In Colab\"/></a>"
      ]
    },
    {
      "cell_type": "code",
      "execution_count": null,
      "metadata": {
        "colab": {
          "base_uri": "https://localhost:8080/"
        },
        "collapsed": true,
        "id": "LC_QWLXci1EX",
        "outputId": "2a523912-c365-4884-db52-34213ec7aa77"
      },
      "outputs": [
        {
          "output_type": "stream",
          "name": "stdout",
          "text": [
            "Accession\tIsolate Name\tStrain\tGeo_Loc_Name\tCountry\tCollection Date\n",
            "AF311938.1\tEchovirus E30\tBastianni\tUnknown\tUnknown\t02-DEC-2001\n",
            "AF162711.1\tEchovirus E30\tBastianni\tUnknown\tUnknown\t20-JUL-1999\n",
            "DQ246620.1\tEchovirus E30\tEcho30/Zhejiang/17/03/CSF\tChina: Zhejiang\tUnknown\t06-NOV-2005\n",
            "DQ534205.1\tEchovirus E30\tUnknown\tNetherlands\tUnknown\t24-MAY-2007\n",
            "EF066391.1\tEchovirus E30\tTW/2513/01\tTaiwan\tUnknown\t01-OCT-2007\n",
            "EF066392.1\tEchovirus E30\tTW/3182/01\tTaiwan\tUnknown\t01-OCT-2007\n",
            "JN704615.1\tEchovirus E30\tKor08-ECV30\tSouth Korea\tUnknown\t13-FEB-2012\n",
            "JX854435.1\tEchovirus E30\tUnknown\tChina: Guangxi\tUnknown\t08-DEC-2012\n",
            "JX976773.1\tEchovirus E30\tUnknown\tChina: Shandong\tUnknown\t26-JUL-2013\n",
            "KC897073.1\tEchovirus E30\tUnknown\tChina: Guandong\tUnknown\t26-FEB-2014\n",
            "KP266571.1\tEchovirus E30\t2002-59\tChina\tUnknown\t28-APR-2015\n",
            "KT353720.1\tEchovirus E30\t1-B4-TW\tTaiwan\tUnknown\t13-FEB-2016\n",
            "KY645964.1\tEchovirus E30\t16-I10\tUSA\tUnknown\t29-MAR-2017\n",
            "KY888272.1\tEchovirus E30\t13-311\tGermany\tUnknown\t03-MAR-2018\n",
            "KY888273.1\tEchovirus E30\t13-759\tGermany\tUnknown\t03-MAR-2018\n",
            "KY888274.1\tEchovirus E30\t14-397\tGermany\tUnknown\t03-MAR-2018\n",
            "KY888275.1\tEchovirus E30\tBastianni\tHungary\tUnknown\t03-MAR-2018\n",
            "MF678335.1\tEchovirus E30\tUnknown\tAustralia\tUnknown\t19-DEC-2017\n",
            "MF678337.1\tEchovirus E30\tUnknown\tAustralia\tUnknown\t19-DEC-2017\n",
            "MK238483.1\tEchovirus E30\tUSA/2017/CA-RGDS-1005\tUSA: CA, El Dorado\tUnknown\t26-FEB-2019\n",
            "MK800120.1\tEchovirus E30\tUSA/2018-23125\tUSA\tUnknown\t01-MAY-2020\n",
            "MN153799.1\tEchovirus E30\tUSA/2015/CA-RGDS-1046\tUSA: CA\tUnknown\t20-NOV-2019\n",
            "MW080372.1\tEchovirus E30\tUnknown\tChina\tUnknown\t20-JAN-2021\n",
            "MW080377.1\tEchovirus E30\tUnknown\tChina\tUnknown\t20-JAN-2021\n",
            "MZ229659.1\tEchovirus E30\tUnknown\tChina\tUnknown\t18-SEP-2022\n",
            "MZ229660.1\tEchovirus E30\tUnknown\tChina\tUnknown\t18-SEP-2022\n",
            "MZ389230.1\tEchovirus E30\tE30/Spain_LCR519/2018\tSpain\tUnknown\t09-FEB-2022\n",
            "MZ389231.1\tEchovirus E30\tE30/Spain_LCR520/2018\tSpain\tUnknown\t09-FEB-2022\n",
            "MZ389232.1\tEchovirus E30\tE30/Spain_LCR675/2017\tSpain\tUnknown\t09-FEB-2022\n",
            "MZ436966.1\tEchovirus E30\tE30/Spain_LCR265/2016\tSpain\tUnknown\t09-FEB-2022\n",
            "OM677620.1\tEchovirus E30\tUnknown\tChina\tUnknown\t14-DEC-2022\n",
            "ON129560.1\tEchovirus E30\tUnknown\tChina\tUnknown\t01-FEB-2023\n",
            "OP207961.1\tEchovirus E30\tUnknown\tUSA\tUnknown\t28-JAN-2023\n",
            "OP207962.1\tEchovirus E30\tUnknown\tUSA\tUnknown\t28-JAN-2023\n",
            "OQ210941.1\tEchovirus E30\tUnknown\tChina\tUnknown\t07-JAN-2025\n",
            "OQ210942.1\tEchovirus E30\tUnknown\tChina\tUnknown\t07-JAN-2025\n",
            "OQ210943.1\tEchovirus E30\tUnknown\tChina\tUnknown\t07-JAN-2025\n",
            "OQ210944.1\tEchovirus E30\tUnknown\tChina\tUnknown\t07-JAN-2025\n",
            "OQ791513.1\tEchovirus E30\tUnknown\tUSA\tUnknown\t09-MAY-2023\n",
            "OQ791516.1\tEchovirus E30\tUnknown\tUSA\tUnknown\t09-MAY-2023\n",
            "OQ791571.1\tEchovirus E30\tUnknown\tUSA\tUnknown\t09-MAY-2023\n",
            "OQ842412.1\tEchovirus E30\tUnknown\tUSA\tUnknown\t16-MAY-2023\n",
            "OQ842429.1\tEchovirus E30\tUnknown\tUSA\tUnknown\t16-MAY-2023\n",
            "PQ472410.1\tEchovirus E30\tUnknown\tIndia\tUnknown\t12-DEC-2024\n"
          ]
        }
      ],
      "source": [
        "from Bio import Entrez, SeqIO\n",
        "\n",
        "# Set your email (required for NCBI Entrez API access)\n",
        "Entrez.email = \"your_email@example.com\"  # Replace with your actual email\n",
        "\n",
        "# List of 44 Echo 30 isolate accession numbers\n",
        "accessions = [\n",
        "    \"AF311938.1\", \"AF162711.1\", \"DQ246620.1\", \"DQ534205.1\", \"EF066391.1\",\n",
        "    \"EF066392.1\", \"JN704615.1\", \"JX854435.1\", \"JX976773.1\", \"KC897073.1\",\n",
        "    \"KP266571.1\", \"KT353720.1\", \"KY645964.1\", \"KY888272.1\", \"KY888273.1\",\n",
        "    \"KY888274.1\", \"KY888275.1\", \"MF678335.1\", \"MF678337.1\", \"MK238483.1\",\n",
        "    \"MK800120.1\", \"MN153799.1\", \"MW080372.1\", \"MW080377.1\", \"MZ229659.1\",\n",
        "    \"MZ229660.1\", \"MZ389230.1\", \"MZ389231.1\", \"MZ389232.1\", \"MZ436966.1\",\n",
        "    \"OM677620.1\", \"ON129560.1\", \"OP207961.1\", \"OP207962.1\", \"OQ210941.1\",\n",
        "    \"OQ210942.1\", \"OQ210943.1\", \"OQ210944.1\", \"OQ791513.1\", \"OQ791516.1\",\n",
        "    \"OQ791571.1\", \"OQ842412.1\", \"OQ842429.1\", \"PQ472410.1\"\n",
        "]\n",
        "\n",
        "# Store extracted metadata\n",
        "metadata = []\n",
        "\n",
        "for acc in accessions:\n",
        "    try:\n",
        "        # Fetch GenBank record\n",
        "        handle = Entrez.efetch(db=\"nucleotide\", id=acc, rettype=\"gb\", retmode=\"text\")\n",
        "        record = SeqIO.read(handle, \"genbank\")\n",
        "\n",
        "        # Extract metadata fields\n",
        "        isolate_name = record.annotations.get(\"source\", \"Unknown\")\n",
        "        collection_date = record.annotations.get(\"date\", \"Unknown\")\n",
        "        strain = \"Unknown\"\n",
        "        geo_loc_name = \"Unknown\"\n",
        "        country = \"Unknown\"\n",
        "\n",
        "        # Search for metadata in features\n",
        "        for feature in record.features:\n",
        "            if feature.type == \"source\":\n",
        "                if \"strain\" in feature.qualifiers:\n",
        "                    strain = feature.qualifiers[\"strain\"][0]\n",
        "                if \"country\" in feature.qualifiers:\n",
        "                    country = feature.qualifiers[\"country\"][0]\n",
        "                if \"geo_loc_name\" in feature.qualifiers:\n",
        "                    geo_loc_name = feature.qualifiers[\"geo_loc_name\"][0]\n",
        "                break  # Stop searching once found\n",
        "\n",
        "        # Store extracted metadata\n",
        "        metadata.append([acc, isolate_name, strain, geo_loc_name, country, collection_date])\n",
        "\n",
        "    except Exception as e:\n",
        "        print(f\"Error fetching data for {acc}: {e}\")\n",
        "\n",
        "# Print the results in a formatted table\n",
        "print(\"Accession\\tIsolate Name\\tStrain\\tGeo_Loc_Name\\tCountry\\tCollection Date\")\n",
        "for row in metadata:\n",
        "    print(\"\\t\".join(row))\n",
        "\n",
        "\n",
        "\n"
      ]
    },
    {
      "cell_type": "markdown",
      "source": [
        "# New Section"
      ],
      "metadata": {
        "id": "RuB95ReFu3-K"
      }
    },
    {
      "cell_type": "code",
      "source": [],
      "metadata": {
        "id": "FPgi8vXIu7gD"
      },
      "execution_count": null,
      "outputs": []
    },
    {
      "source": [
        "!pip install pandas\n",
        "import pandas as pd # import the pandas library and alias it as 'pd'\n",
        "\n",
        "# Create a Pandas DataFrame\n",
        "df = pd.DataFrame(metadata, columns=[\"Accession\", \"Isolate Name\", \"Strain\", \"Geo_Loc_Name\", \"Country\", \"Collection Date\"])\n",
        "\n",
        "# Save to an Excel file\n",
        "excel_filename = \"Echo30_Metadata.xlsx\"\n",
        "df.to_excel(excel_filename, index=False)\n",
        "\n",
        "print(f\"Metadata successfully saved to {excel_filename}\")"
      ],
      "cell_type": "code",
      "metadata": {
        "colab": {
          "base_uri": "https://localhost:8080/"
        },
        "collapsed": true,
        "id": "zMdoWC4jvzlV",
        "outputId": "e77e9e19-ee5d-46a3-b33a-38854481e0c7"
      },
      "execution_count": null,
      "outputs": [
        {
          "output_type": "stream",
          "name": "stdout",
          "text": [
            "Requirement already satisfied: pandas in /usr/local/lib/python3.11/dist-packages (2.2.2)\n",
            "Requirement already satisfied: numpy>=1.23.2 in /usr/local/lib/python3.11/dist-packages (from pandas) (2.0.2)\n",
            "Requirement already satisfied: python-dateutil>=2.8.2 in /usr/local/lib/python3.11/dist-packages (from pandas) (2.8.2)\n",
            "Requirement already satisfied: pytz>=2020.1 in /usr/local/lib/python3.11/dist-packages (from pandas) (2025.1)\n",
            "Requirement already satisfied: tzdata>=2022.7 in /usr/local/lib/python3.11/dist-packages (from pandas) (2025.1)\n",
            "Requirement already satisfied: six>=1.5 in /usr/local/lib/python3.11/dist-packages (from python-dateutil>=2.8.2->pandas) (1.17.0)\n",
            "Metadata successfully saved to Echo30_Metadata.xlsx\n"
          ]
        }
      ]
    }
  ]
}